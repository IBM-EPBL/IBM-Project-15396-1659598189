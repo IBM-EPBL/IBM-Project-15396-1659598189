{
  "nbformat": 4,
  "nbformat_minor": 0,
  "metadata": {
    "colab": {
      "provenance": []
    },
    "kernelspec": {
      "name": "python3",
      "display_name": "Python 3"
    },
    "language_info": {
      "name": "python"
    }
  },
  "cells": [
    {
      "cell_type": "code",
      "execution_count": null,
      "metadata": {
        "id": "zytiDOcKNgdY"
      },
      "outputs": [],
      "source": [
        "from google.colab import drive\n",
        "drive.mount('/content/drive')"
      ]
    },
    {
      "cell_type": "markdown",
      "source": [
        "IMAGE PREPROCESSING"
      ],
      "metadata": {
        "id": "wI4Fxhi2NjfI"
      }
    },
    {
      "cell_type": "code",
      "source": [
        "#importing keras library\n",
        "import keras"
      ],
      "metadata": {
        "id": "ic73x_TGNhac"
      },
      "execution_count": null,
      "outputs": []
    },
    {
      "cell_type": "code",
      "source": [
        "#importing the image data generator\n",
        "from matplotlib import pyplot as plt\n",
        "from keras.preprocessing.image import ImageDataGenerator"
      ],
      "metadata": {
        "id": "rf93zq8eNp1C"
      },
      "execution_count": null,
      "outputs": []
    },
    {
      "cell_type": "code",
      "source": [
        "#Defining the parameter for image generator class\n",
        "train_datagen=ImageDataGenerator(rescale=1./255,shear_range=0.2,rotation_range=180,zoom_range=0.2,horizontal_flip=True)\n",
        "test_datagen=ImageDataGenerator(rescale=1./255)"
      ],
      "metadata": {
        "id": "w5Uxys_9NtON"
      },
      "execution_count": null,
      "outputs": []
    },
    {
      "cell_type": "code",
      "source": [
        "#Applying image data generator functionality to train set \n",
        "x_train=train_datagen.flow_from_directory('/content/drive/MyDrive/Dataset/train_set',\n",
        "target_size=(128,128),batch_size=32,class_mode='binary')"
      ],
      "metadata": {
        "id": "J4FemIOxNvhA"
      },
      "execution_count": null,
      "outputs": []
    },
    {
      "cell_type": "code",
      "source": [
        "#Applying image data generator functionality to test set\n",
        "x_test=test_datagen.flow_from_directory('/content/drive/MyDrive/Dataset/test_set',\n",
        "target_size=(128, 128),batch_size=32,class_mode='binary')\n"
      ],
      "metadata": {
        "id": "yac9uLrTN0fV"
      },
      "execution_count": null,
      "outputs": []
    },
    {
      "cell_type": "markdown",
      "source": [
        "MODEL BUILDING"
      ],
      "metadata": {
        "id": "zIDEUqEdN44E"
      }
    },
    {
      "cell_type": "code",
      "source": [
        "#To define linear intialisation import Sequential \n",
        "from keras.models import Sequential\n",
        "#To add layers import Dense\n",
        "from keras.layers import Dense\n",
        "#To creat Convolution kernal import Convolution2D\n",
        "from keras.layers import Convolution2D\n",
        "#import Maxpooling layer\n",
        "from keras.layers import MaxPooling2D\n",
        "#import Flatten layer\n",
        "from keras.layers import Flatten\n",
        "import warnings\n",
        "warnings.filterwarnings('ignore')"
      ],
      "metadata": {
        "id": "QgdQ_dykN1OZ"
      },
      "execution_count": null,
      "outputs": []
    },
    {
      "cell_type": "code",
      "source": [
        "#initializing the model\n",
        "model=Sequential()\n",
        "#add convolution layer\n",
        "model.add(Convolution2D(32,(3,3),input_shape=(128,128,3),activation='relu'))\n",
        "#add maxpooling layer\n",
        "model.add(MaxPooling2D(pool_size=(2,2)))\n",
        "#add convolution layer\n",
        "model.add(Convolution2D(64,(3,3),activation='relu'))\n",
        "#add maxpooling layer\n",
        "model.add(MaxPooling2D(pool_size=(2,2)))\n",
        "#add convolution layer\n",
        "model.add(Convolution2D(128,(3,3),activation='relu'))\n",
        "#add maxpooling layer\n",
        "model.add(MaxPooling2D(pool_size=(2,2)))\n",
        "#add convolution layer\n",
        "model.add(Convolution2D(128,(3,3),activation='relu'))\n",
        "#add maxpooling layer\n",
        "model.add(MaxPooling2D(pool_size=(2,2)))\n",
        "#add flatten layer\n",
        "model.add(Flatten())\n",
        "\n",
        "model.add(Dense(512,activation='relu'))\n",
        "model.add(Dense(1,activation='sigmoid'))"
      ],
      "metadata": {
        "id": "dhFVH7mvN8OD"
      },
      "execution_count": null,
      "outputs": []
    },
    {
      "cell_type": "code",
      "source": [
        "#configuring the learning process\n",
        "model.compile(loss='binary_crossentropy',optimizer=\"adam\",metrics=[\"accuracy\"])"
      ],
      "metadata": {
        "id": "bcdVH3l-N_8r"
      },
      "execution_count": null,
      "outputs": []
    },
    {
      "cell_type": "code",
      "source": [
        "#Training the model\n",
        "r=model.fit(x_train,epochs=10,validation_data=x_test)"
      ],
      "metadata": {
        "id": "EXwqep_BODha"
      },
      "execution_count": null,
      "outputs": []
    },
    {
      "cell_type": "code",
      "source": [
        "#save the model\n",
        "model.save(\"forestalert.h5\")"
      ],
      "metadata": {
        "id": "8vPhoZ5MOGWi"
      },
      "execution_count": null,
      "outputs": []
    },
    {
      "cell_type": "markdown",
      "source": [
        "VIDEO ANALYSIS"
      ],
      "metadata": {
        "id": "EfqyJPkmOLMP"
      }
    },
    {
      "cell_type": "code",
      "source": [
        "pip install twilio"
      ],
      "metadata": {
        "id": "YCLpOMZlOJF_"
      },
      "execution_count": null,
      "outputs": []
    },
    {
      "cell_type": "code",
      "source": [
        "from twilio.rest import Client"
      ],
      "metadata": {
        "id": "9te-hJpMOQ0W"
      },
      "execution_count": null,
      "outputs": []
    },
    {
      "cell_type": "code",
      "source": [
        "#import load model from keras.model\n",
        "from keras.models import load_model\n",
        "#import image from keras\n",
        "from tensorflow.keras.preprocessing import image\n",
        "import numpy as np\n",
        "#import cv2\n",
        "import cv2\n",
        "#load the saved model\n",
        "model=load_model(\"/content/forestalert.h5\")\n",
        "img=image.load_img('/content/drive/MyDrive/Dataset/test_set/with fire/Uttarakhand_forest_fire.jpeg')\n",
        "x=image.img_to_array(img)\n",
        "# res=cv2.resize(x,dsize=(150,150),interpolation=cv2.INTER_CUBIC)\n",
        "#expand the image shape\n",
        "x=np.expand_dims(x,axis=0)"
      ],
      "metadata": {
        "id": "iCTWI3_BOUU8"
      },
      "execution_count": null,
      "outputs": []
    },
    {
      "cell_type": "code",
      "source": [
        "from logging import WARNING\n",
        "#import opencv library\n",
        "import cv2\n",
        "#import numpy\n",
        "import numpy as np\n",
        "#import image function from keras\n",
        "from keras.preprocessing import image\n",
        "#import load_model from keras\n",
        "from keras.models import load_model\n",
        "#import client from twilio API\n",
        "from twilio.rest import Client\n",
        "#import playsound package"
      ],
      "metadata": {
        "id": "fLD8J3jiOWUr"
      },
      "execution_count": null,
      "outputs": []
    },
    {
      "cell_type": "code",
      "source": [
        "import cv2 \n",
        "import numpy as np\n",
        "from google.colab.patches import cv2_imshow\n",
        "from matplotlib import pyplot as plt\n",
        "import librosa\n",
        "import tensorflow\n",
        "from tensorflow.keras.preprocessing import image\n",
        "from keras.models import load_model\n",
        "from google.colab import drive\n",
        "from google.colab.patches import cv2_imshow\n",
        "\n"
      ],
      "metadata": {
        "id": "DRF83ET8ObaZ"
      },
      "execution_count": null,
      "outputs": []
    },
    {
      "cell_type": "code",
      "source": [
        "# Create a VideoCapture object and read from input file\n",
        "# If the input is the camera, pass 0 instead of the video file name\n",
        "video = cv2.VideoCapture(r'/content/drive/MyDrive/Wild fire.mp4')\n",
        "name=['forest','with fire']"
      ],
      "metadata": {
        "id": "al2nh_0sOcUC"
      },
      "execution_count": null,
      "outputs": []
    },
    {
      "cell_type": "code",
      "source": [
        "while(1):\n",
        " success,frame = video.read()\n",
        " cv2.imwrite(\"image.jpg\",frame)\n",
        " img = tensorflow.keras.utils.load_img(\"image.jpg\",target_size = (128,128))\n",
        " x = image.img_to_array(img)\n",
        " x = np.expand_dims(x,axis = 0)\n",
        " pred = model.predict(x)\n",
        " pred = pred[0][0]\n",
        " if pred > 0.5:\n",
        "   pred = 1\n",
        " else :\n",
        "    pred = 0\n",
        " print(pred)\n",
        " cv2.putText(frame,\"predicted class = \"+str(name[pred]),(100,100),cv2.FONT_HERSHEY_SIMPLEX,1,(255,255,255),1)\n",
        " if pred==1:\n",
        "  account_sid = 'ACab5b7ac22466b88a9cda7cf5414b750a'\n",
        "  auth_token = 'c9c95130eade17e5e3d3f936283bef7a'\n",
        "  client = Client(account_sid, auth_token)\n",
        "  message = client.messages \\\n",
        "    .create(\n",
        "    body='Forest Fire is detected,Stay alert',\n",
        "    from_='+17088477470',\n",
        "    to='+918825826199')\n",
        "  print(message.sid)\n",
        "  print(\"Fire detected\")\n",
        "  print(\"SMS Sent!\")\n",
        "  cv2_imshow(frame)\n",
        "  break\n",
        " else:\n",
        "  print(\"No Danger\")\n",
        "  break\n",
        " cv2_imshow(frame)\n",
        " if cv2.waitKey(1) & 0xFF == ord('a'):\n",
        "  break\n",
        " video.release()\n",
        "cv2.destroyAllWindows()"
      ],
      "metadata": {
        "id": "Lh2FK6LXOfDO"
      },
      "execution_count": null,
      "outputs": []
    }
  ]
}